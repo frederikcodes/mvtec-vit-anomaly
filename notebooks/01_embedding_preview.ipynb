{
 "cells": [
  {
   "cell_type": "markdown",
   "id": "40ecf336-e3cf-4f36-b177-0ad41509d0a6",
   "metadata": {},
   "source": [
    "# Extracting ViT Embeddings (Feature Bank Creation)\n",
    "\n",
    "In this step, we prepare the foundation for all subsequent anomaly detection tasks.  \n",
    "Our goal is to process all *normal* training images through a pre-trained Vision Transformer (ViT) backbone and store the resulting **patch-level embeddings** as a **feature bank**.  \n",
    "\n",
    "These embeddings will later be compared against test images to compute anomaly scores and generate heatmaps.  \n",
    "By separating feature extraction from the actual scoring step, we can avoid repeatedly running the backbone model, which significantly speeds up experimentation.\n",
    "\n",
    "**Main objectives for this step:**\n",
    "- Load a pre-trained ViT backbone (e.g., DINOv2 or MAE).\n",
    "- Apply the same preprocessing pipeline used during pre-training (resize, crop, normalization).\n",
    "- Pass each *normal* training image through the model to extract patch embeddings.\n",
    "- Normalize the embeddings for consistent distance computation.\n",
    "- Store all embeddings per category on disk for later use.\n",
    "- *(Optional)* Visual sanity check using UMAP/t-SNE on the extracted features.\n",
    "\n",
    "Once completed, we will have a reusable feature bank that enables fast anomaly scoring and heatmap generation in the next stage.\n"
   ]
  },
  {
   "cell_type": "code",
   "execution_count": null,
   "id": "f9657eb9-5362-4f14-9a12-4fa16320975a",
   "metadata": {},
   "outputs": [],
   "source": []
  }
 ],
 "metadata": {
  "kernelspec": {
   "display_name": "Python (mvtec)",
   "language": "python",
   "name": "mvtec-vit-anomaly"
  },
  "language_info": {
   "codemirror_mode": {
    "name": "ipython",
    "version": 3
   },
   "file_extension": ".py",
   "mimetype": "text/x-python",
   "name": "python",
   "nbconvert_exporter": "python",
   "pygments_lexer": "ipython3",
   "version": "3.13.0"
  }
 },
 "nbformat": 4,
 "nbformat_minor": 5
}
